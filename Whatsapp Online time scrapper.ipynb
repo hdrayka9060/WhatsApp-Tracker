{
 "cells": [
  {
   "cell_type": "code",
   "execution_count": 1,
   "id": "2deb9aa0",
   "metadata": {},
   "outputs": [],
   "source": [
    "from selenium import webdriver\n",
    "from selenium.webdriver.common.by import By\n",
    "from bs4 import BeautifulSoup\n",
    "from datetime import datetime\n",
    "import time\n",
    "import requests"
   ]
  },
  {
   "cell_type": "code",
   "execution_count": 2,
   "id": "4d08bd56",
   "metadata": {},
   "outputs": [],
   "source": [
    "browser=webdriver.Chrome()\n",
    "browser.get(\"https://web.whatsapp.com/\")"
   ]
  },
  {
   "cell_type": "code",
   "execution_count": 6,
   "id": "35ad2948",
   "metadata": {},
   "outputs": [],
   "source": [
    "curtime=str(datetime.now());\n",
    "tartime=\"2023-07-24 18:30:00.000000\"\n",
    "elements = browser.find_elements(By.CLASS_NAME, '_21S-L')\n",
    "mummy=[]\n",
    "vishali=[]\n",
    "chotu=[]\n",
    "mahavar=[]\n",
    "KH=[]\n",
    "while curtime<tartime:\n",
    "    for i in range(len(elements)):\n",
    "        if i:\n",
    "            elements[i].click()\n",
    "            time.sleep(3)\n",
    "            soup=BeautifulSoup(browser.page_source,\"html.parser\")\n",
    "            sp1=soup.find('div',class_=\"_3W2ap\")\n",
    "            sp2=soup.find('div',class_=\"p357zi0d r15c9g6i g4oj0cdv ovllcyds l0vqccxk pm5hny62\")\n",
    "            if sp2 and sp2.text==\"online\":\n",
    "                sp1text=sp1.text.split(\" \")[0]\n",
    "                sp2text=sp2.text\n",
    "                if sp1text==\"mummy\":\n",
    "                    mummy.append(str(datetime.now()))\n",
    "                    print(sp1text,\"is online at\",datetime.now())\n",
    "                elif sp1text==\"vishali\":\n",
    "                    vishali.append(str(datetime.now()))\n",
    "                    print(sp1text,\"is online at\",datetime.now())\n",
    "                elif sp1text==\"chotu\":\n",
    "                    chotu.append(str(datetime.now()))\n",
    "                    print(sp1text,\"is online at\",datetime.now())\n",
    "                elif sp1text==\"mahavar\":\n",
    "                    mahavar.append(str(datetime.now()))\n",
    "                    print(sp1text,\"is online at\",datetime.now())\n",
    "                elif sp1text==\"KH\":\n",
    "                    KH.append(str(datetime.now()))\n",
    "                    print(sp1text,\"is online at\",datetime.now())\n",
    "\n",
    "    curtime=str(datetime.now());"
   ]
  },
  {
   "cell_type": "code",
   "execution_count": 7,
   "id": "5f84a1de",
   "metadata": {},
   "outputs": [],
   "source": [
    "if len(mummy):\n",
    "    fd=open(\"mummy.txt\",\"a\")\n",
    "    for txt in mummy:\n",
    "        txt=txt+\",\"\n",
    "        fd.write(txt);\n",
    "    fd.close();\n",
    "    \n",
    "if len(vishali):\n",
    "    fd=open(\"vishali.txt\",\"a\")\n",
    "    for txt in vishali:\n",
    "        txt=txt+\",\"\n",
    "        fd.write(txt);\n",
    "    fd.close();\n",
    "    \n",
    "if len(chotu):\n",
    "    fd=open(\"chotu.txt\",\"a\")\n",
    "    for txt in chotu:\n",
    "        txt=txt+\",\"\n",
    "        fd.write(txt);\n",
    "    fd.close();\n",
    "    \n",
    "if len(mahavar):\n",
    "    fd=open(\"mahavar.txt\",\"a\")\n",
    "    for txt in mahavar:\n",
    "        txt=txt+\",\"\n",
    "        fd.write(txt);\n",
    "    fd.close();\n",
    "    \n",
    "if len(KH):\n",
    "    fd=open(\"KH.txt\",\"a\")\n",
    "    for txt in KH:\n",
    "        txt=txt+\",\"\n",
    "        fd.write(txt);\n",
    "    fd.close();"
   ]
  },
  {
   "cell_type": "code",
   "execution_count": null,
   "id": "932c3d54",
   "metadata": {},
   "outputs": [],
   "source": []
  }
 ],
 "metadata": {
  "kernelspec": {
   "display_name": "Python 3 (ipykernel)",
   "language": "python",
   "name": "python3"
  },
  "language_info": {
   "codemirror_mode": {
    "name": "ipython",
    "version": 3
   },
   "file_extension": ".py",
   "mimetype": "text/x-python",
   "name": "python",
   "nbconvert_exporter": "python",
   "pygments_lexer": "ipython3",
   "version": "3.10.9"
  }
 },
 "nbformat": 4,
 "nbformat_minor": 5
}
